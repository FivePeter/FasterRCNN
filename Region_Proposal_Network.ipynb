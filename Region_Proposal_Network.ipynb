{
 "cells": [
  {
   "cell_type": "code",
   "execution_count": null,
   "metadata": {
    "collapsed": true
   },
   "outputs": [],
   "source": [
    "import tensorflow as tf\n",
    "import numpy as np \n",
    "from extract_feature import NET_OUT_CHANNEL \n",
    "RPN_POS_IOU = 0.7 \n",
    "RPN_NEG_IOU = 0.3 \n",
    "NUM_PRE_NMS = 12000 \n",
    "NUM_AFTER_NMS = 2000 \n",
    "NMS_TRESH = 0.7"
   ]
  },
  {
   "cell_type": "code",
   "execution_count": 3,
   "metadata": {
    "collapsed": true
   },
   "outputs": [],
   "source": [
    "###1.anchor生成模块 产生H/16*W/16个框\n",
    "###输入：feature map的W、H大小\n",
    "###输出：W*H个anchor坐标"
   ]
  },
  {
   "cell_type": "code",
   "execution_count": 4,
   "metadata": {
    "collapsed": true
   },
   "outputs": [],
   "source": [
    "def generate_anchor_base(base_size=16, ratios=[0.5, 1, 2],anchor_scales=[8, 16, 32]):\n",
    "    py = 0. \n",
    "    px = 0. \n",
    "    anchor_base = np.zeros((len(ratios) * len(anchor_scales), 4),dtype=np.float32)\n",
    "    for i in range(len(ratios)):\n",
    "        for j in range(len(anchor_scales)):\n",
    "            h = base_size * anchor_scales[j] * np.sqrt(ratios[i]) #16 *8*根2/2\n",
    "            w = base_size * anchor_scales[j] * np.sqrt(1. / ratios[i]) #16*8*根2\n",
    "\n",
    "            index = i * len(anchor_scales) + j\n",
    "            anchor_base[index, 0] = px - w / 2 \n",
    "            anchor_base[index, 1] = py - h / 2\n",
    "            anchor_base[index, 2] = px + w / 2\n",
    "            anchor_base[index, 3] = py + h / 2\n",
    "    return anchor_base\n",
    "\n",
    "def _enumerate_shifted_anchor(anchor_base,width,height,feat_stride):\n",
    "    #生成w*h*9个的anchor，并标出所有anchor的坐标\n",
    "    #feat_stride为相邻anchor间隔，VGG feature与原图缩小16倍，所以采用16\n",
    "    shift_y = np.arange(0, height * feat_stride, feat_stride)\n",
    "    shift_x = np.arange(0, width * feat_stride, feat_stride)\n",
    "    shift_x, shift_y = np.meshgrid(shift_x, shift_y)\n",
    "    shift = np.stack((shift_x.ravel(), shift_y.ravel(),\n",
    "                      shift_x.ravel(), shift_y.ravel()), axis=1)\n",
    "    A = anchor_base.shape[0]\n",
    "    K = shift.shape[0]\n",
    "    anchor = anchor_base.reshape((1, A, 4)) + shift.reshape((1, K, 4)).transpose((1, 0, 2))\n",
    "    anchor = anchor.reshape((K * A, 4)).astype(np.float32)\n",
    "    ####change\n",
    "    anchor[:, slice(0, 4, 2)] = np.clip(anchor[:, slice(0, 4, 2)], 0, width*16) \n",
    "    anchor[:, slice(1, 4, 2)] = np.clip(anchor[:, slice(1, 4, 2)], 0, height*16)  \n",
    "    return anchor\n",
    "\n",
    "def generate_img_anchor(width,height,feat_stride=16):\n",
    "    anchor_base = generate_anchor_base()\n",
    "    anchor = _enumerate_shifted_anchor(anchor_base,width,height,feat_stride)\n",
    "    return anchor"
   ]
  },
  {
   "cell_type": "code",
   "execution_count": 6,
   "metadata": {},
   "outputs": [
    {
     "name": "stdout",
     "output_type": "stream",
     "text": [
      "[ 389.49032593    0.          512.           45.25483322]\n",
      "[ 405.49032593    0.          512.           45.25483322]\n",
      "[  0.           0.          90.50966644  61.25483322]\n",
      "[   0.            0.          106.50966644   61.25483322]\n"
     ]
    }
   ],
   "source": [
    "if __name__=='__main__':\n",
    "    anchor = generate_img_anchor(32,20)\n",
    "    for i in range(30,34):\n",
    "        print(anchor[i*9])"
   ]
  },
  {
   "cell_type": "code",
   "execution_count": 4,
   "metadata": {
    "collapsed": true
   },
   "outputs": [],
   "source": [
    "####2、AnchorTargetCreator 选取128个正样本和128个负样本，输出label和转换过的loc信息\n",
    "###输入：1、所有原图gt_bbox坐标   2、生成的W*H个anchor   3、原图的W1和H1\n",
    "###输出：1、E=W*H个标注，正样本占128个，负样本占128个   2、转换之后的位置参数  3、正、负样本的索引"
   ]
  },
  {
   "cell_type": "code",
   "execution_count": 5,
   "metadata": {
    "collapsed": true
   },
   "outputs": [],
   "source": [
    "def _get_inside_index(anchor, W, H):\n",
    "    index_inside = np.where(\n",
    "        (anchor[:, 0] >= 0) &\n",
    "        (anchor[:, 1] >= 0) &\n",
    "        (anchor[:, 2] <= W) &\n",
    "        (anchor[:, 3] <= H)\n",
    "    )[0]\n",
    "    return index_inside\n",
    "\n",
    "def bbox_iou(bbox_a, bbox_b):\n",
    "    #计算bbox_a 与bbox_b的IOU\n",
    "    if bbox_a.shape[1] != 4 or bbox_b.shape[1] != 4:\n",
    "        raise IndexError\n",
    "\n",
    "    tl = np.maximum(bbox_a[:, None, :2], bbox_b[:, :2])\n",
    "    br = np.minimum(bbox_a[:, None, 2:], bbox_b[:, 2:])\n",
    "\n",
    "    area_i = np.prod(br - tl, axis=2) * (tl < br).all(axis=2)\n",
    "    area_a = np.prod(bbox_a[:, 2:] - bbox_a[:, :2], axis=1)\n",
    "    area_b = np.prod(bbox_b[:, 2:] - bbox_b[:, :2], axis=1)\n",
    "    return area_i / (area_a[:, None] + area_b - area_i)\n",
    "\n",
    "def _calc_ious(anchor, gt_bbox, inside_index):\n",
    "    # ious between the anchors and the gt boxes\n",
    "    ious = bbox_iou(anchor, gt_bbox)#列为gt box  行为anchor\n",
    "    argmax_ious = ious.argmax(axis=1)# 每个anchor与所有gt box最大的IOU 列索引\n",
    "    max_ious = ious[np.arange(len(inside_index)), argmax_ious]# m每行最大值，每个anchor最大的IOU（20000+） \n",
    "    gt_argmax_ious = ious.argmax(axis=0) #每个gt box与所有anchor最大的IOU行索引\n",
    "    gt_max_ious = ious[gt_argmax_ious, np.arange(ious.shape[1])]#每列最大值\n",
    "    gt_argmax_ious = np.where(ious == gt_max_ious)[0] #与每列最大值相同的所有行索引\n",
    "    return argmax_ious, max_ious, gt_argmax_ious\n",
    "\n",
    "def _create_label( inside_index, anchor, gt_bbox,\n",
    "                  pos_iou_thresh = RPN_POS_IOU,neg_iou_thresh = RPN_NEG_IOU,n_sample = 256):\n",
    "    # label: 1 is positive, 0 is negative, -1 is dont care\n",
    "    pos_ratio = 0.5\n",
    "    label = np.empty((len(inside_index),), dtype=np.int32)\n",
    "    label.fill(-1)\n",
    "\n",
    "    argmax_ious, max_ious, gt_argmax_ious = _calc_ious(anchor, gt_bbox, inside_index)\n",
    "\n",
    "    # assign negative labels first so that positive labels can clobber them\n",
    "    label[max_ious < neg_iou_thresh] = 0\n",
    "\n",
    "    # positive label: for each gt, anchor with highest iou\n",
    "    label[gt_argmax_ious] = 1\n",
    "\n",
    "    # positive label: above threshold IOU\n",
    "    label[max_ious >= pos_iou_thresh] = 1\n",
    "\n",
    "    # subsample positive labels if we have too many\n",
    "    n_pos = int(pos_ratio * n_sample)\n",
    "    pos_index = np.where(label == 1)[0] \n",
    "    if len(pos_index) > n_pos: #选取128个正例子\n",
    "        disable_index = np.random.choice(pos_index, size=(len(pos_index) - n_pos), replace=False)\n",
    "        label[disable_index] = -1\n",
    "\n",
    "    ###if len(pos_index)<n_pos:   ###change\n",
    "    ###    n_neg = np.sum(label == 1) #如果正样例不够128，只选与正相当的负样例\n",
    "    ###else:\n",
    "    n_neg = n_sample - np.sum(label == 1)  # subsample negative labels if we have too many\n",
    "        \n",
    "    neg_index = np.where(label == 0)[0] #选128个负例子\n",
    "    if len(neg_index) > n_neg:\n",
    "        disable_index = np.random.choice(neg_index, size=(len(neg_index) - n_neg), replace=False)\n",
    "        label[disable_index] = -1\n",
    "    return argmax_ious, label\n",
    "\n",
    "def bbox2loc(src_bbox, dst_bbox):\n",
    "    width = src_bbox[:, 2] - src_bbox[:, 0]\n",
    "    height = src_bbox[:, 3] - src_bbox[:, 1]\n",
    "    ctr_x = src_bbox[:, 0] + 0.5 * width\n",
    "    ctr_y = src_bbox[:, 1] + 0.5 * height\n",
    "    \n",
    "    base_width = dst_bbox[:, 2] - dst_bbox[:, 0]\n",
    "    base_height = dst_bbox[:, 3] - dst_bbox[:, 1]\n",
    "    base_ctr_x = dst_bbox[:, 0] + 0.5 * base_width\n",
    "    base_ctr_y = dst_bbox[:, 1] + 0.5 * base_height\n",
    "    \n",
    "    eps = np.finfo(height.dtype).eps\n",
    "    height = np.maximum(height, eps)\n",
    "    width = np.maximum(width, eps)\n",
    "\n",
    "    dx = (base_ctr_x - ctr_x) / width\n",
    "    dy = (base_ctr_y - ctr_y) / height\n",
    "    dw = np.log(base_width / width)\n",
    "    dh = np.log(base_height / height)\n",
    "\n",
    "    loc = np.vstack((dx, dy, dw, dh)).transpose()\n",
    "    return loc\n",
    "\n",
    "def AnchorTargetCreator(gt_bbox,anchor,img_w,img_h):\n",
    "    #1:计算gt_bbox与anchor的iou值\n",
    "    #2:选取与gt_bbox最大的一个为正样本，IOU大于0.7的为正，IOU小于0.3的为负，正负各选128个\n",
    "    #3:对选出样本的anchor做变化，用于回归\n",
    "    inside_index = _get_inside_index(anchor,img_w,img_h)\n",
    "    anchor = anchor[inside_index]\n",
    "    argmax_ious, train_label = _create_label(inside_index,anchor,gt_bbox)\n",
    "    train_loc = bbox2loc(anchor, gt_bbox[argmax_ious])\n",
    "    return train_label,train_loc"
   ]
  },
  {
   "cell_type": "code",
   "execution_count": 6,
   "metadata": {
    "collapsed": true
   },
   "outputs": [],
   "source": [
    "###3。排序，修正anchor位置\n",
    "###输入：生成的W*H个anchor,卷积之后的label概率，卷积之后得到的loc参数,原图的宽。高\n",
    "###输出：修正后的60% anchor框"
   ]
  },
  {
   "cell_type": "code",
   "execution_count": 7,
   "metadata": {
    "collapsed": true
   },
   "outputs": [],
   "source": [
    "def loc2bbox(src_bbox, loc):\n",
    "    if src_bbox.shape[0] == 0:\n",
    "        return xp.zeros((0, 4), dtype=loc.dtype)\n",
    "\n",
    "    src_bbox = src_bbox.astype(src_bbox.dtype, copy=False)\n",
    "    src_height = src_bbox[:, 2] - src_bbox[:, 0]\n",
    "    src_width = src_bbox[:, 3] - src_bbox[:, 1]\n",
    "    src_ctr_y = src_bbox[:, 0] + 0.5 * src_height\n",
    "    src_ctr_x = src_bbox[:, 1] + 0.5 * src_width\n",
    "\n",
    "    dy = loc[:, 0::4]# 对应公式ty、tx、th、tw，求解的是x，y，h，w表示预测的bbox\n",
    "    dx = loc[:, 1::4]\n",
    "    dh = loc[:, 2::4]\n",
    "    dw = loc[:, 3::4]\n",
    "\n",
    "    ctr_y = dy * src_height[:, np.newaxis] + src_ctr_y[:, np.newaxis]\n",
    "    ctr_x = dx * src_width[:, np.newaxis] + src_ctr_x[:, np.newaxis]\n",
    "    h = np.exp(dh) * src_height[:, np.newaxis]\n",
    "    w = np.exp(dw) * src_width[:, np.newaxis]\n",
    "\n",
    "    dst_bbox = np.zeros(loc.shape, dtype=loc.dtype)\n",
    "    dst_bbox[:, 0::4] = ctr_y - 0.5 * h\n",
    "    dst_bbox[:, 1::4] = ctr_x - 0.5 * w\n",
    "    dst_bbox[:, 2::4] = ctr_y + 0.5 * h\n",
    "    dst_bbox[:, 3::4] = ctr_x + 0.5 * w\n",
    "\n",
    "    return dst_bbox\n",
    "\n",
    "def anchor_update(anchor,conv_label,conv_loc,W,H,scale=1):\n",
    "    min_size=16\n",
    "    n_pre_nms=NUM_PRE_NMS\n",
    "    \n",
    "    roi = loc2bbox(anchor, conv_loc)\n",
    "    roi[:, slice(0, 4, 2)] = np.clip(roi[:, slice(0, 4, 2)], 0, W)##将预测box左边超出边界的截取回到图像内\n",
    "    roi[:, slice(1, 4, 2)] = np.clip(roi[:, slice(1, 4, 2)], 0, H)\n",
    "    \n",
    "    min_size = min_size * scale\n",
    "    ws = roi[:, 2] - roi[:, 0]\n",
    "    hs = roi[:, 3] - roi[:, 1]\n",
    "    keep = np.where((hs >= min_size) & (ws >= min_size))[0] #返回宽高大于min_size的roi区域\n",
    "    roi = roi[keep, :]\n",
    "    conv_label = conv_label[keep]\n",
    "    \n",
    "    order = conv_label.ravel().argsort()[::-1]\n",
    "    order = order[:n_pre_nms]\n",
    "    anchor_to_nms = roi[order, :]\n",
    "    label_to_nms = conv_label[order]\n",
    "    return anchor_to_nms,label_to_nms"
   ]
  },
  {
   "cell_type": "code",
   "execution_count": 8,
   "metadata": {
    "collapsed": true
   },
   "outputs": [],
   "source": [
    "###4、NMS筛选ROI区域\n",
    "###输入: 调整坐标之后的6000个anchor\n",
    "###输出：300个ROI区域"
   ]
  },
  {
   "cell_type": "code",
   "execution_count": 9,
   "metadata": {
    "collapsed": true
   },
   "outputs": [],
   "source": [
    "def py_cpu_nms(anchor, label,thresh=NMS_TRESH):    \n",
    "    x1 = anchor[:, 0]  \n",
    "    y1 = anchor[:, 1]  \n",
    "    x2 = anchor[:, 2]  \n",
    "    y2 = anchor[:, 3]  \n",
    "    scores = label[:]  \n",
    "  \n",
    "    areas = (x2 - x1 + 1) * (y2 - y1 + 1)   \n",
    "    order = scores.argsort()[::-1] #label从大到小的索引值  \n",
    "    keep = []  \n",
    "    while order.size > 0:  \n",
    "        i = order[0]   #第一个计算值\n",
    "        keep.append(i)  \n",
    "        xx1 = np.maximum(x1[i], x1[order[1:]])  \n",
    "        yy1 = np.maximum(y1[i], y1[order[1:]])  \n",
    "        xx2 = np.minimum(x2[i], x2[order[1:]])  \n",
    "        yy2 = np.minimum(y2[i], y2[order[1:]])  \n",
    "  \n",
    "        w = np.maximum(0.0, xx2 - xx1 + 1)  \n",
    "        h = np.maximum(0.0, yy2 - yy1 + 1)  \n",
    "        inter = w * h    \n",
    "        ovr = inter / (areas[i] + areas[order[1:]] - inter)  \n",
    "        inds = np.where(ovr <= thresh)[0]   \n",
    "        order = order[inds + 1]  \n",
    "  \n",
    "    return keep  "
   ]
  },
  {
   "cell_type": "code",
   "execution_count": 10,
   "metadata": {
    "collapsed": true
   },
   "outputs": [],
   "source": [
    "###5、RPN训练过程(损失函数定义)\n",
    "###输入: 卷积层的feature map,图像宽高\n",
    "###输出：300个ROI区域 \n",
    "###过程：\n",
    "###1、生成20000个anchor\n",
    "###2、训练阶段：根据gt_loc信息，标记128个正样本和128个负样本，用正样本做坐标训练，用正负样本做分类训练。计算损失，反向传播\n",
    "###3、卷积得到label和loc的信息，选出label前6000的anchor\n",
    "###4、通过nms选出300个anchor"
   ]
  },
  {
   "cell_type": "code",
   "execution_count": 11,
   "metadata": {
    "collapsed": true
   },
   "outputs": [],
   "source": [
    "def Region_Proposal_Network(label_numpy,loc_numpy,img_W,img_H,feat_stride=16):\n",
    "    ####1、生成anchors\n",
    "    F_H = (img_H+feat_stride-1)//feat_stride\n",
    "    F_W = (img_W+feat_stride-1)//feat_stride\n",
    "    anchor = generate_img_anchor(F_W,F_H,feat_stride=feat_stride)\n",
    "    label_numpy = label_numpy[:,1]#正样本概率\n",
    "    anchor_to_nms,label_to_nms = anchor_update(anchor,label_numpy,loc_numpy,img_W,img_H) \n",
    "    ###4、选出12000个丢进nms选出300个\n",
    "    keep   = py_cpu_nms(anchor_to_nms, label_to_nms)\n",
    "    keep  = keep[:NUM_AFTER_NMS]\n",
    "    bbox_to_roi = anchor_to_nms[keep]\n",
    "    return bbox_to_roi,anchor\n",
    "\n",
    "def Region_Proposal_Network_test(label_numpy,loc_numpy,img_W,img_H,feat_stride=16):\n",
    "    ####1、生成anchors\n",
    "    F_H = (img_H+feat_stride-1)//feat_stride\n",
    "    F_W = (img_W+feat_stride-1)//feat_stride\n",
    "    anchor = generate_img_anchor(F_W,F_H,feat_stride=feat_stride)\n",
    "    label_numpy = label_numpy[:,1]#正样本概率\n",
    "    anchor_to_nms,label_to_nms = anchor_update(anchor,label_numpy,loc_numpy,img_W,img_H) \n",
    "    ###4、选出12000个丢进nms选出300个\n",
    "    keep   = py_cpu_nms(anchor_to_nms, label_to_nms)\n",
    "    label_to_nms = label_to_nms[keep]\n",
    "    bbox_to_roi = anchor_to_nms[keep]\n",
    "    order = label_to_nms.ravel().argsort()[::-1]\n",
    "    order  = order[:64]\n",
    "    bbox_to_roi = bbox_to_roi[order]\n",
    "    return bbox_to_roi"
   ]
  },
  {
   "cell_type": "code",
   "execution_count": null,
   "metadata": {
    "collapsed": true
   },
   "outputs": [],
   "source": []
  }
 ],
 "metadata": {
  "kernelspec": {
   "display_name": "Python 3",
   "language": "python",
   "name": "python3"
  },
  "language_info": {
   "codemirror_mode": {
    "name": "ipython",
    "version": 3
   },
   "file_extension": ".py",
   "mimetype": "text/x-python",
   "name": "python",
   "nbconvert_exporter": "python",
   "pygments_lexer": "ipython3",
   "version": "3.6.2"
  }
 },
 "nbformat": 4,
 "nbformat_minor": 2
}
