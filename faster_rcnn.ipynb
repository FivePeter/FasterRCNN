{
 "cells": [
  {
   "cell_type": "code",
   "execution_count": 1,
   "metadata": {
    "collapsed": true
   },
   "outputs": [],
   "source": [
    "import tensorflow as tf\n",
    "import numpy as np\n",
    "import Region_Proposal_Network as rpn\n",
    "import ROI_RCNN as rcnn\n",
    "import extract_feature as vgg_rpn\n",
    "import os\n",
    "import time"
   ]
  },
  {
   "cell_type": "code",
   "execution_count": 2,
   "metadata": {
    "collapsed": true
   },
   "outputs": [],
   "source": [
    "LEARNING_RATE_BASE = 0.0001\n",
    "LEARNING_RATE_DECAY = 0.1\n",
    "MOMENTUM =0.9\n",
    "TRAIN_NUM = 400\n",
    "LOOP_TIMES =1"
   ]
  },
  {
   "cell_type": "code",
   "execution_count": 3,
   "metadata": {
    "collapsed": true
   },
   "outputs": [],
   "source": [
    "checkpoint_steps = 1000\n",
    "checkpoint_dir = '/path/to/save_model/fasterRCNN/'"
   ]
  },
  {
   "cell_type": "code",
   "execution_count": 4,
   "metadata": {
    "collapsed": true
   },
   "outputs": [],
   "source": [
    "def _modified_smooth_l1(bbox_pred, bbox_targets, bbox_inside_weights,sigma):\n",
    "    \"\"\"\n",
    "        ResultLoss = outside_weights * SmoothL1(inside_weights * (bbox_pred - bbox_targets))\n",
    "        SmoothL1(x) = 0.5 * (sigma * x)^2,    if |x| < 1 / sigma^2\n",
    "                      |x| - 0.5 / sigma^2,    otherwise\n",
    "    \"\"\"\n",
    "    sigma2 = sigma * sigma\n",
    "    inside_mul = tf.multiply(bbox_inside_weights, tf.subtract(bbox_pred, bbox_targets))\n",
    "\n",
    "    smooth_l1_sign = tf.stop_gradient(tf.cast(tf.less(tf.abs(inside_mul), 1.0 / sigma2), tf.float32))\n",
    "    smooth_l1_option1 = tf.multiply(tf.multiply(inside_mul, inside_mul), 0.5 * sigma2)\n",
    "    smooth_l1_option2 = tf.subtract(tf.abs(inside_mul), 0.5 / sigma2)\n",
    "    smooth_l1_result = tf.add(tf.multiply(smooth_l1_option1, smooth_l1_sign),\n",
    "                              tf.multiply(smooth_l1_option2, tf.abs(tf.subtract(smooth_l1_sign, 1.0))))\n",
    "    outside_mul = tf.reduce_sum(smooth_l1_result)\n",
    "    #outside_mul = tf.multiply(bbox_outside_weights, smooth_l1_result)\n",
    "    return outside_mul\n",
    "\n",
    "def _fast_rcnn_loc_loss(pred_loc, gt_loc, gt_label, sigma):\n",
    "    in_weight0 = tf.zeros([tf.shape(gt_loc)[0],tf.shape(gt_loc)[1]],dtype=tf.int32)\n",
    "    in_weight1 = tf.ones([tf.shape(gt_loc)[0],tf.shape(gt_loc)[1]],dtype=tf.int32)\n",
    "    in_weight = tf.where((gt_label > 0),in_weight1,in_weight0)\n",
    "    loc_loss = _modified_smooth_l1(pred_loc, gt_loc, in_weight, sigma)\n",
    "    loc_loss /= tf.to_float(tf.shape(tf.where(gt_label>=0))[0])\n",
    "    return 10*loc_loss"
   ]
  },
  {
   "cell_type": "code",
   "execution_count": 5,
   "metadata": {
    "collapsed": true
   },
   "outputs": [],
   "source": [
    "#####重新整理损失函数，一定用tensor计算，输入图像格式换为tf.placeholder\n",
    "def train():\n",
    "    #################  img input #################\n",
    "    img_input = tf.placeholder(tf.float32,shape=[1,None,None,3],name='img_input')\n",
    "    gt_rpn_label = tf.placeholder(tf.int32,shape=[None],name='gt_rpn_label')\n",
    "    gt_rpn_loc = tf.placeholder(tf.float32,shape=[None,4],name='gt_rpn_loc')\n",
    "    sample_roi = tf.placeholder(tf.float32,shape=[None,4],name='sample_roi')\n",
    "    gt_roi_loc = tf.placeholder(tf.float32,shape=[None,4],name='gt_roi_loc')\n",
    "    gt_roi_label = tf.placeholder(tf.int32,shape=[None],name='gt_roi_label')\n",
    "    roi_loc_index = tf.placeholder(tf.int32,shape=[None,4,2],name='roi_loc_index')\n",
    "    #################  VGG+RPN #################\n",
    "    feature,rpn_label,rpn_loc = vgg_rpn.extra_feature(img_input)\n",
    "    rpn_label_softmax = tf.nn.softmax(rpn_label)\n",
    "    #################  计算RPN损失函数 #################\n",
    "    rpn_pos_logits = tf.reshape(tf.gather(rpn_label,tf.where(tf.not_equal(gt_rpn_label,-1))),[-1,2])\n",
    "    rpn_label_toloss = tf.reshape(tf.gather(gt_rpn_label,tf.where(tf.not_equal(gt_rpn_label,-1))),[-1])\n",
    "    rpn_cls_loss = tf.reduce_mean(tf.nn.sparse_softmax_cross_entropy_with_logits(logits=rpn_pos_logits,labels=rpn_label_toloss))\n",
    "    rpn_rgr_loss = _fast_rcnn_loc_loss(rpn_loc, gt_rpn_loc, gt_rpn_label, sigma=3)###调整到这一步\n",
    "    rpn_loss = rpn_cls_loss + rpn_rgr_loss\n",
    "\n",
    "    ###################   RCNN 分类与回归结果   ##################\n",
    "    fc_cls_21,fc_rgr_84 = rcnn.VGG16RoIHead(sample_roi,feature)\n",
    "    pre_cls_21 = tf.nn.softmax(fc_cls_21)\n",
    "    ##################  选出标记label对应的四个loc信息\n",
    "\n",
    "    pre_loc = tf.gather_nd(fc_rgr_84,roi_loc_index) ###修正\n",
    "    ###################   RCNN损失计算   ##################\n",
    "    roi_cls_loss = tf.reduce_mean(tf.nn.sparse_softmax_cross_entropy_with_logits(logits=fc_cls_21 , labels=gt_roi_label))\n",
    "    roi_rgr_loss = _fast_rcnn_loc_loss(pre_loc, gt_roi_loc, gt_roi_label, sigma=1)###\n",
    "    roi_rgr_loss = roi_rgr_loss;\n",
    "    roi_loss = roi_cls_loss + roi_rgr_loss \n",
    "    loss = rpn_loss + roi_loss\n",
    "    roi_pos_nums = tf.to_float(tf.shape(tf.where(gt_roi_label>=1))[0])\n",
    "    \n",
    "    ###################设置学习率，训练方式\n",
    "    global_step = tf.Variable(0, trainable=False,name=\"global_step\")\n",
    "    learning_rate = tf.train.exponential_decay(LEARNING_RATE_BASE,global_step,30000, LEARNING_RATE_DECAY,staircase=True)\n",
    "    #train_op = tf.train.GradientDescentOptimizer(learning_rate).minimize(loss,global_step=global_step)\n",
    "    train_op = tf.train.MomentumOptimizer(learning_rate,MOMENTUM).minimize(loss,global_step=global_step)\n",
    "\n",
    "    tf.summary.scalar('rpn_cls_loss', rpn_cls_loss)\n",
    "    tf.summary.scalar('rpn_rgr_loss', rpn_rgr_loss)\n",
    "    tf.summary.scalar('roi_cls_loss', roi_cls_loss)\n",
    "    tf.summary.scalar('roi_rgr_loss', roi_rgr_loss)\n",
    "    tf.summary.scalar('all_loss', loss)\n",
    "    tf.summary.scalar('learning_rate', learning_rate)\n",
    "    merged = tf.summary.merge_all()\n",
    "    ###################   开始计算   ##################\n",
    "    saver = tf.train.Saver()\n",
    "    config = tf.ConfigProto()\n",
    "    config.gpu_options.allow_growth = True\n",
    "    with tf.Session(config=config) as sess:\n",
    "        summary_writer = tf.summary.FileWriter(r\"/path/to/board_test\",sess.graph)\n",
    "        tf.global_variables_initializer().run()\n",
    "        train_path = os.path.join('data',\"traindata\",\"img\")\n",
    "        path = os.path.join('data',\"traindata\")\n",
    "        train_data = os.listdir(train_path)   \n",
    "        loss_min = 20;\n",
    "        for j in range(LOOP_TIMES):\n",
    "            for i in range(TRAIN_NUM):\n",
    "                train_name = train_data[i].strip().split('.')[0]\n",
    "                img,gt_bbox_temp,gt_label_temp,scale =vgg_rpn.get_img_sample(path,train_name)\n",
    "                img = np.array(img,dtype=float)\n",
    "                img_mean = img.copy()\n",
    "                img_mean -= np.array([123.68, 116.779, 103.939]).reshape((1,1,1,3))\n",
    "                __b,img_H,img_W,__c = img.shape \n",
    "                feat_stride = 16\n",
    "                F_H = (img_H+feat_stride-1)//feat_stride\n",
    "                F_W = (img_W+feat_stride-1)//feat_stride\n",
    "                rpn_label_temp,rpn_loc_tmp = sess.run([rpn_label_softmax,rpn_loc],feed_dict={img_input:img_mean})\n",
    "                ROI_bbox,anchor = rpn.Region_Proposal_Network(rpn_label_temp,rpn_loc_tmp,img_W,img_H)\n",
    "                gt_rpn_label_temp,gt_rpn_loc_temp = rpn.AnchorTargetCreator(gt_bbox_temp,anchor,F_W*16,F_H*16)\n",
    "                ################### e  ROI区域选择，生成标记数据   ##################\n",
    "                sample_roi_temp, gt_roi_loc_temp, gt_roi_label_temp = rcnn.ProposalTargetCreator(ROI_bbox,\n",
    "                                                                    gt_bbox_temp,gt_label_temp) ##用于反向传播\n",
    "                batch_roi = gt_roi_label_temp.shape[0]\n",
    "                if batch_roi!=64:\n",
    "                    print(\"i is\",i,\"batch_roi is\",batch_roi)\n",
    "                    continue;\n",
    "                label_index = np.zeros([batch_roi,4,2])\n",
    "                temp = np.array([[i] for i in range(batch_roi)],dtype=int)\n",
    "                label_index[:,:,0] = temp \n",
    "                label_index[:,:,1] = [[gt_roi_label_temp[i]*4,gt_roi_label_temp[i]*4+1,gt_roi_label_temp[i]*4+2,\n",
    "                                       gt_roi_label_temp[i]*4+3] for i in range(batch_roi)]\n",
    "                label_index = np.array(label_index,dtype=int)\n",
    "                feed_dict_roi = {gt_rpn_label:gt_rpn_label_temp, gt_rpn_loc:gt_rpn_loc_temp,\n",
    "                                sample_roi:sample_roi_temp, gt_roi_loc:gt_roi_loc_temp, img_input:img_mean,\n",
    "                                gt_roi_label:gt_roi_label_temp,roi_loc_index:label_index}\n",
    "                summary,__train_,loss_temp, rpnclsloss, rpnrgrloss, roiclsloss,roirgrloss,\\\n",
    "                            label_output,loc_output,pre_loc_temp,roi_pos_nums_tmp\\\n",
    "                = sess.run([merged,  train_op,   loss,rpn_cls_loss, rpn_rgr_loss, roi_cls_loss, roi_rgr_loss,\\\n",
    "                            pre_cls_21,fc_rgr_84,pre_loc,roi_pos_nums],feed_dict=feed_dict_roi)\n",
    "                if (i ==LOOP_TIMES-1)&(loss_temp<loss_min):\n",
    "                    saver.save(sess, checkpoint_dir + 'model.ckpt', global_step=i+1)\n",
    "                if (i+1)%(TRAIN_NUM/10)==0:\n",
    "                    print(j,i,\"rpnclsloss is \",rpnclsloss,\"rpnrgrloss is \",rpnrgrloss,\"roiclsloss is \",\n",
    "                          roiclsloss,\"roirgrloss is \",roirgrloss,\"roi_pos_nums_tmp\",roi_pos_nums_tmp)\n",
    "                summary_writer.add_summary(summary, i)\n",
    "    \n",
    "    summary_writer.close()\n",
    "    ##tensorboard --logdir  /path/to/board_test \n",
    "    return rpn_label_temp,rpn_loc_tmp,label_output,loc_output\\\n",
    "        ,sample_roi_temp,gt_roi_loc_temp, gt_roi_label_temp,pre_loc_temp,gt_rpn_label_temp\\\n",
    "        ,gt_rpn_loc_temp,anchor,gt_bbox_temp,rpn_loc_tmp,rpn_label_temp,label_index"
   ]
  },
  {
   "cell_type": "code",
   "execution_count": 6,
   "metadata": {
    "scrolled": true
   },
   "outputs": [
    {
     "name": "stderr",
     "output_type": "stream",
     "text": [
      "D:\\Anaconda3\\envs\\tensorflow\\lib\\site-packages\\tensorflow\\python\\ops\\gradients_impl.py:96: UserWarning: Converting sparse IndexedSlices to a dense Tensor of unknown shape. This may consume a large amount of memory.\n",
      "  \"Converting sparse IndexedSlices to a dense Tensor of unknown shape. \"\n"
     ]
    },
    {
     "name": "stdout",
     "output_type": "stream",
     "text": [
      "0 39 rpnclsloss is  0.694921 rpnrgrloss is  4.30846 roiclsloss is  0.774356 roirgrloss is  0.0581591 roi_pos_nums_tmp 4.0\n",
      "error roi img batch is not 64. neg is 16 pos is 2\n",
      "i is 64 batch_roi is 18\n",
      "0 79 rpnclsloss is  0.676485 rpnrgrloss is  0.0584234 roiclsloss is  1.41777 roirgrloss is  0.291101 roi_pos_nums_tmp 16.0\n",
      "error roi img batch is not 64. neg is 21 pos is 1\n",
      "i is 94 batch_roi is 22\n",
      "0 119 rpnclsloss is  0.679048 rpnrgrloss is  0.999414 roiclsloss is  2.48992 roirgrloss is  0.43506 roi_pos_nums_tmp 32.0\n",
      "error roi img batch is not 64. neg is 54 pos is 4\n",
      "i is 129 batch_roi is 58\n",
      "error roi img batch is not 64. neg is 0 pos is 1\n",
      "i is 139 batch_roi is 1\n",
      "0 159 rpnclsloss is  0.678318 rpnrgrloss is  0.94671 roiclsloss is  2.24306 roirgrloss is  0.602657 roi_pos_nums_tmp 32.0\n",
      "error roi img batch is not 64. neg is 44 pos is 4\n",
      "i is 160 batch_roi is 48\n",
      "error roi img batch is not 64. neg is 32 pos is 2\n",
      "i is 166 batch_roi is 34\n",
      "0 199 rpnclsloss is  0.665428 rpnrgrloss is  0.29245 roiclsloss is  1.00289 roirgrloss is  0.178985 roi_pos_nums_tmp 20.0\n",
      "0 239 rpnclsloss is  0.666882 rpnrgrloss is  1.08118 roiclsloss is  2.33877 roirgrloss is  0.412388 roi_pos_nums_tmp 32.0\n",
      "error roi img batch is not 64. neg is 17 pos is 2\n",
      "i is 253 batch_roi is 19\n",
      "error roi img batch is not 64. neg is 57 pos is 1\n",
      "i is 273 batch_roi is 58\n",
      "0 279 rpnclsloss is  0.616378 rpnrgrloss is  0.0341777 roiclsloss is  0.950758 roirgrloss is  0.384797 roi_pos_nums_tmp 21.0\n",
      "0 319 rpnclsloss is  0.689532 rpnrgrloss is  0.831289 roiclsloss is  2.36287 roirgrloss is  0.327137 roi_pos_nums_tmp 32.0\n",
      "error roi img batch is not 64. neg is 37 pos is 2\n",
      "i is 338 batch_roi is 39\n",
      "error roi img batch is not 64. neg is 49 pos is 1\n",
      "i is 348 batch_roi is 50\n",
      "error roi img batch is not 64. neg is 49 pos is 2\n",
      "i is 349 batch_roi is 51\n",
      "0 359 rpnclsloss is  0.611749 rpnrgrloss is  1.04736 roiclsloss is  1.51318 roirgrloss is  0.283001 roi_pos_nums_tmp 32.0\n",
      "error roi img batch is not 64. neg is 21 pos is 2\n",
      "i is 377 batch_roi is 23\n",
      "0 399 rpnclsloss is  0.617069 rpnrgrloss is  0.418549 roiclsloss is  2.35112 roirgrloss is  0.486678 roi_pos_nums_tmp 32.0\n"
     ]
    }
   ],
   "source": [
    "time_start=time.time()\n",
    "rpn_label_temp,rpn_loc_tmp,label_output,loc_output,sample_roi,gt_roi_loc, gt_roi_label,roi_pre_loc,gt_rpn_label,\\\n",
    "    gt_rpn_loc,anchor,gt_bbox,pre_rpn_loc,pre_rpn_label ,label_index= train()\n",
    "time_end=time.time()"
   ]
  },
  {
   "cell_type": "code",
   "execution_count": 17,
   "metadata": {},
   "outputs": [
    {
     "name": "stdout",
     "output_type": "stream",
     "text": [
      "[[ 0.5261395   0.47386053]\n",
      " [ 0.50610775  0.49389231]\n",
      " [ 0.50732124  0.49267885]\n",
      " [ 0.50980514  0.49019486]\n",
      " [ 0.50961387  0.49038616]\n",
      " [ 0.50768661  0.49231347]\n",
      " [ 0.5223335   0.47766647]\n",
      " [ 0.51177549  0.48822454]\n",
      " [ 0.50976241  0.49023756]\n",
      " [ 0.50767344  0.49232656]]\n",
      "[[ 0.          0.          0.1377672   0.03339927]\n",
      " [ 0.          0.02019043  0.16665938  0.        ]\n",
      " [ 0.          0.06345844  0.03462837  0.        ]\n",
      " [ 0.          0.00671508  0.          0.        ]\n",
      " [ 0.          0.          0.          0.        ]\n",
      " [ 0.          0.          0.          0.        ]\n",
      " [ 0.          0.01348028  0.          0.        ]\n",
      " [ 0.          0.0293942   0.05539064  0.03232457]\n",
      " [ 0.          0.01228669  0.0846479   0.02054499]\n",
      " [ 0.          0.06269422  0.03245665  0.03421598]]\n",
      "[[  48.            0.          560.          512.        ]\n",
      " [  64.            0.          576.          512.        ]\n",
      " [  80.            0.          592.          512.        ]\n",
      " [   0.           16.          432.          528.        ]\n",
      " [   0.           16.          448.          528.        ]\n",
      " [   0.           90.98066711  570.03869629  453.01934814]\n",
      " [   0.           16.          464.          528.        ]\n",
      " [   0.           90.98066711  586.03869629  453.01934814]\n",
      " [   0.           16.          480.          528.        ]\n",
      " [   0.           16.          496.          528.        ]]\n",
      "[[   0.           40.          571.20001221  542.40002441]]\n"
     ]
    }
   ],
   "source": [
    "print(rpn_label_temp[np.where(gt_rpn_label==1)[0][:10]])\n",
    "print(rpn_loc_tmp[np.where(gt_rpn_label==1)[0][:10]])\n",
    "print(anchor[np.where(gt_rpn_label==1)[0][30:40]])\n",
    "print(gt_bbox)"
   ]
  },
  {
   "cell_type": "code",
   "execution_count": 13,
   "metadata": {
    "collapsed": true
   },
   "outputs": [],
   "source": [
    "def _fast_rcnn_loc_loss(pred_loc, gt_loc, gt_label, sigma):\n",
    "    in_weight0 = tf.zeros([tf.shape(gt_loc)[0],tf.shape(gt_loc)[1]],dtype=tf.int32)\n",
    "    in_weight1 = tf.ones([tf.shape(gt_loc)[0],tf.shape(gt_loc)[1]],dtype=tf.int32)\n",
    "    in_weight = tf.where((gt_label > 0),in_weight1,in_weight0)\n",
    "    loc_loss = _modified_smooth_l1(pred_loc, gt_loc, in_weight, sigma)\n",
    "    loc_loss11 = loc_loss /tf.to_float(tf.shape(tf.where(gt_label>=0))[0])\n",
    "    return loc_loss,loc_loss11"
   ]
  },
  {
   "cell_type": "code",
   "execution_count": 16,
   "metadata": {
    "scrolled": true
   },
   "outputs": [],
   "source": [
    "pred_loc = tf.constant([[0.1,0.1,0.1,0.1],[0.2,0.2,0.2,0.2],[0.3,0.3,0.3,0.3]])\n",
    "gt_loc   = tf.constant([[0.1,2.1,0.6,0.1],[0.2,2.1,0.6,0.2],[0.3,2.1,0.6,0.3]])\n",
    "sigma = tf.constant(1.0)\n",
    "gt_label = tf.constant([1,1,0],dtype=tf.int32)\n",
    "pre_label = tf.constant([[1,2],[0,3],[2,1.5]],dtype=tf.float32)\n",
    "loss,loss11 = _fast_rcnn_loc_loss(pred_loc, gt_loc, gt_label, sigma)\n",
    "mm = tf.to_float(tf.shape(tf.where(gt_label>=0))[0])"
   ]
  },
  {
   "cell_type": "code",
   "execution_count": 17,
   "metadata": {},
   "outputs": [
    {
     "name": "stdout",
     "output_type": "stream",
     "text": [
      "loss 3.105 1.035\n",
      "mm 3.0\n"
     ]
    }
   ],
   "source": [
    "with tf.Session() as sess:\n",
    "    tf.global_variables_initializer().run()\n",
    "    loss_tmp,loss11_tmp = sess.run([loss,loss11])\n",
    "    print(\"loss\",loss_tmp,loss11_tmp)\n",
    "    print(\"mm\",sess.run(mm))"
   ]
  },
  {
   "cell_type": "code",
   "execution_count": 7,
   "metadata": {},
   "outputs": [
    {
     "name": "stdout",
     "output_type": "stream",
     "text": [
      "[[[ 0  1  2]\n",
      "  [ 3  4  5]\n",
      "  [ 6  7  8]\n",
      "  [ 9 10 11]]\n",
      "\n",
      " [[12 13 14]\n",
      "  [15 16 17]\n",
      "  [18 19 20]\n",
      "  [21 22 23]]]\n",
      "[[[ 2  1  0]\n",
      "  [ 5  4  3]\n",
      "  [ 8  7  6]\n",
      "  [11 10  9]]\n",
      "\n",
      " [[14 13 12]\n",
      "  [17 16 15]\n",
      "  [20 19 18]\n",
      "  [23 22 21]]]\n"
     ]
    }
   ],
   "source": [
    "a = np.arange(24).reshape(2,4,3)\n",
    "print(a)\n",
    "a = a[...,::-1]\n",
    "print(a)"
   ]
  },
  {
   "cell_type": "code",
   "execution_count": null,
   "metadata": {
    "collapsed": true
   },
   "outputs": [],
   "source": []
  }
 ],
 "metadata": {
  "kernelspec": {
   "display_name": "Python 3",
   "language": "python",
   "name": "python3"
  },
  "language_info": {
   "codemirror_mode": {
    "name": "ipython",
    "version": 3
   },
   "file_extension": ".py",
   "mimetype": "text/x-python",
   "name": "python",
   "nbconvert_exporter": "python",
   "pygments_lexer": "ipython3",
   "version": "3.6.2"
  }
 },
 "nbformat": 4,
 "nbformat_minor": 2
}
